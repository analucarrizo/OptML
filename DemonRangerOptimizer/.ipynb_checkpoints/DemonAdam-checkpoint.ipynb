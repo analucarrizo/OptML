{
 "cells": [
  {
   "cell_type": "code",
   "execution_count": 1,
   "id": "d040f050",
   "metadata": {},
   "outputs": [],
   "source": [
    "from sklearn.datasets import fetch_openml\n",
    "from sklearn.model_selection import train_test_split\n",
    "import numpy as np\n",
    "import matplotlib.pyplot as plt\n",
    "import torch\n",
    "from torch import nn\n",
    "from torch.nn import functional as F\n",
    "from sklearn.metrics import accuracy_score\n",
    "import torchvision.datasets as datasets\n",
    "from torchvision import transforms\n",
    "from optimizers import DemonRanger\n",
    "\n",
    "device = 'cuda' if torch.cuda.is_available() else 'cpu'"
   ]
  },
  {
   "cell_type": "code",
   "execution_count": 2,
   "id": "f5f90379",
   "metadata": {},
   "outputs": [],
   "source": [
    "class Cnn(nn.Module):\n",
    "    def __init__(self, dropout=0.5):\n",
    "        super(Cnn, self).__init__()\n",
    "        self.conv1 = nn.Conv2d(1, 32, kernel_size=3)\n",
    "        self.conv2 = nn.Conv2d(32, 64, kernel_size=3)\n",
    "        self.conv2_drop = nn.Dropout2d(p=dropout)\n",
    "        self.fc1 = nn.Linear(1600, 100) # 1600 = number channels * width * height\n",
    "        self.fc2 = nn.Linear(100, 10)\n",
    "        self.fc1_drop = nn.Dropout(p=dropout)\n",
    "\n",
    "    def forward(self, x):\n",
    "        x = torch.relu(F.max_pool2d(self.conv1(x), 2))\n",
    "        x = torch.relu(F.max_pool2d(self.conv2_drop(self.conv2(x)), 2))\n",
    "        \n",
    "        # flatten over channel, height and width = 1600\n",
    "        x = x.view(-1, x.size(1) * x.size(2) * x.size(3))\n",
    "        \n",
    "        x = torch.relu(self.fc1_drop(self.fc1(x)))\n",
    "        x = torch.softmax(self.fc2(x), dim=-1)\n",
    "        return x"
   ]
  },
  {
   "cell_type": "code",
   "execution_count": 3,
   "id": "c7c17b49",
   "metadata": {},
   "outputs": [],
   "source": [
    "class config:\n",
    "    def __init__(self):\n",
    "       self.batch_size = 1024\n",
    "       self.wd = 0\n",
    "       self.lr = 0.002\n",
    "       self.view_every = 100\n",
    "       self.epochs = 10\n",
    "       \n",
    "config = config()\n",
    "net_demon = Cnn()\n",
    "net_demon.to(device)\n",
    "criterion = nn.CrossEntropyLoss()"
   ]
  },
  {
   "cell_type": "code",
   "execution_count": 4,
   "id": "e1060401",
   "metadata": {},
   "outputs": [],
   "source": [
    "transform = transforms.Compose([\n",
    "    transforms.ToTensor()])\n",
    "#Data\n",
    "mnist_trainset = datasets.MNIST(root='./data', train=True, download=True, transform=transform)\n",
    "mnist_testset = datasets.MNIST(root='./data', train=False, download=True, transform=transform)\n",
    "\n",
    "#Loaders\n",
    "trainloader = torch.utils.data.DataLoader(mnist_trainset, batch_size=config.batch_size, shuffle=True, num_workers=2)\n",
    "testloader = torch.utils.data.DataLoader(mnist_testset, batch_size=config.batch_size, shuffle=True, num_workers=2)"
   ]
  },
  {
   "cell_type": "code",
   "execution_count": 5,
   "id": "e9e0890b",
   "metadata": {},
   "outputs": [],
   "source": [
    "optimizer = DemonRanger(params=net_demon.parameters(),\n",
    "                        lr=config.lr,\n",
    "                        weight_decay=config.wd,\n",
    "                        epochs = config.epochs,\n",
    "                        step_per_epoch = len(trainloader), \n",
    "                        betas=(0.9,0.999,0.999), # restore default AdamW betas\n",
    "                        nus=(1.0,1.0), # disables QHMomentum\n",
    "                        k=0,  # disables lookahead\n",
    "                        alpha=1.0, \n",
    "                        IA=False, # enables Iterate Averaging\n",
    "                        rectify=False, # disables RAdam Recitification\n",
    "                        AdaMod=False, #disables AdaMod\n",
    "                        AdaMod_bias_correct=False, #disables AdaMod bias corretion (not used originally)\n",
    "                        use_demon=True, #enables Decaying Momentum (DEMON)\n",
    "                        use_gc=False, #disables gradient centralization\n",
    "                        amsgrad=False # disables amsgrad\n",
    "                       )\n",
    "IA_activate = False "
   ]
  },
  {
   "cell_type": "code",
   "execution_count": 6,
   "id": "43ec2643",
   "metadata": {},
   "outputs": [
    {
     "name": "stdout",
     "output_type": "stream",
     "text": [
      "EPOCH 1 / 10\n"
     ]
    },
    {
     "name": "stderr",
     "output_type": "stream",
     "text": [
      "C:\\Users\\Amine Tourki\\Desktop\\Master\\MA2\\optimisation for ML\\DemonRangerOptimizer\\optimizers.py:398: UserWarning: This overload of addcmul_ is deprecated:\n",
      "\taddcmul_(Number value, Tensor tensor1, Tensor tensor2)\n",
      "Consider using one of the following signatures instead:\n",
      "\taddcmul_(Tensor tensor1, Tensor tensor2, *, Number value) (Triggered internally at  C:\\cb\\pytorch_1000000000000\\work\\torch\\csrc\\utils\\python_arg_parser.cpp:1055.)\n",
      "  exp_avg_sq.mul_(beta2).addcmul_(1 - beta2, grad, grad)\n"
     ]
    },
    {
     "name": "stdout",
     "output_type": "stream",
     "text": [
      "EPOCH 2 / 10\n",
      "EPOCH 3 / 10\n",
      "EPOCH 4 / 10\n",
      "EPOCH 5 / 10\n",
      "EPOCH 6 / 10\n",
      "EPOCH 7 / 10\n",
      "EPOCH 8 / 10\n",
      "EPOCH 9 / 10\n",
      "EPOCH 10 / 10\n",
      "Finished Training\n"
     ]
    }
   ],
   "source": [
    "# Train\n",
    "for epoch in range(config.epochs):  # loop over the dataset multiple times\n",
    "    print('EPOCH {:d} / {:d}'.format(epoch + 1, config.epochs))\n",
    "    running_loss = 0.0\n",
    "    for i, data in enumerate(trainloader, 0):\n",
    "        # get the inputs; data is a list of [inputs, labels]\n",
    "        inputs, labels = data[0].to(device), data[1].to(device)\n",
    "\n",
    "        # zero the parameter gradients\n",
    "        optimizer.zero_grad()\n",
    "\n",
    "        # forward + backward + optimize\n",
    "        outputs = net_demon(inputs)\n",
    "        loss = criterion(outputs, labels)\n",
    "        loss.backward()\n",
    "        optimizer.step(IA_activate)\n",
    "\n",
    "        # print statistics\n",
    "        running_loss += loss.item()\n",
    "        if i % config.view_every == config.view_every-1:    # print every 2000 mini-batches\n",
    "            print('Batch {:d} / {:d}: loss = {:.4f}'.format(i+1,len(trainloader),running_loss/config.view_every))\n",
    "            running_loss = 0.0\n",
    "\n",
    "print('Finished Training')"
   ]
  },
  {
   "cell_type": "code",
   "execution_count": 7,
   "id": "46b0bae2",
   "metadata": {},
   "outputs": [
    {
     "name": "stdout",
     "output_type": "stream",
     "text": [
      "Accuracy of the network on the test images: 97 %\n"
     ]
    }
   ],
   "source": [
    "correct = 0\n",
    "total = 0\n",
    "# since we're not training, we don't need to calculate the gradients for our outputs\n",
    "with torch.no_grad():\n",
    "    for data in testloader:\n",
    "        images, labels = data[0].to(device), data[1].to(device)\n",
    "        # calculate outputs by running images through the network \n",
    "        outputs = net_demon(images).to(device)\n",
    "        # the class with the highest energy is what we choose as prediction\n",
    "        _, predicted = torch.max(outputs.data, 1)\n",
    "        total += labels.size(0)\n",
    "        correct += (predicted == labels).sum().item()\n",
    "\n",
    "print('Accuracy of the network on the test images: %d %%' % (\n",
    "    100 * correct / total))"
   ]
  },
  {
   "cell_type": "code",
   "execution_count": null,
   "id": "70ebc282",
   "metadata": {},
   "outputs": [],
   "source": []
  }
 ],
 "metadata": {
  "kernelspec": {
   "display_name": "Python [conda env:deep]",
   "language": "python",
   "name": "conda-env-deep-py"
  },
  "language_info": {
   "codemirror_mode": {
    "name": "ipython",
    "version": 3
   },
   "file_extension": ".py",
   "mimetype": "text/x-python",
   "name": "python",
   "nbconvert_exporter": "python",
   "pygments_lexer": "ipython3",
   "version": "3.10.4"
  }
 },
 "nbformat": 4,
 "nbformat_minor": 5
}
